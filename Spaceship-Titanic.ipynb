{
 "cells": [
  {
   "cell_type": "code",
   "execution_count": 81,
   "id": "a36bc53e-58f6-4b07-b644-06e090f69cf1",
   "metadata": {},
   "outputs": [],
   "source": [
    "%matplotlib inline\n",
    "import numpy as np\n",
    "import pandas as pd\n",
    "import matplotlib.pyplot as plt \n",
    "import seaborn as sns \n",
    "SEED =42\n",
    "# models from scikit-learn\n",
    "from sklearn.linear_model import LogisticRegression\n",
    "from sklearn.neighbors import KNeighborsClassifier\n",
    "from sklearn.ensemble import RandomForestClassifier,GradientBoostingClassifier\n",
    "# Models Evaluations\n",
    "from sklearn.model_selection import cross_val_score,train_test_split\n",
    "from sklearn.model_selection import RandomizedSearchCV , GridSearchCV\n",
    "from sklearn.metrics import confusion_matrix , classification_report,accuracy_score\n",
    "from sklearn.metrics import  precision_score,recall_score , f1_score\n",
    "from sklearn.metrics import RocCurveDisplay\n",
    "from sklearn.compose import ColumnTransformer\n",
    "from sklearn.pipeline import Pipeline\n",
    "from sklearn.preprocessing import StandardScaler, OneHotEncoder\n",
    "from sklearn.impute import SimpleImputer"
   ]
  },
  {
   "cell_type": "code",
   "execution_count": 2,
   "id": "0654922d-0fb8-4cc8-9ed4-586d68fd3fac",
   "metadata": {},
   "outputs": [],
   "source": [
    "df = pd.read_csv(\"data/spaceship-titanic data/train.csv\")\n",
    "df_test = pd.read_csv(\"data/spaceship-titanic data/test.csv\")"
   ]
  },
  {
   "cell_type": "code",
   "execution_count": 3,
   "id": "eb734d4f-ccf8-4dc8-bb40-6a9154eb99f8",
   "metadata": {},
   "outputs": [
    {
     "data": {
      "text/plain": [
       "((8693, 14), (4277, 13))"
      ]
     },
     "execution_count": 3,
     "metadata": {},
     "output_type": "execute_result"
    }
   ],
   "source": [
    "df.shape , df_test.shape"
   ]
  },
  {
   "cell_type": "code",
   "execution_count": 4,
   "id": "4c71d87d-8778-4ead-85e1-a8024b25ca2f",
   "metadata": {},
   "outputs": [],
   "source": [
    "df_train = df[\"Transported\"]"
   ]
  },
  {
   "cell_type": "code",
   "execution_count": 6,
   "id": "6172154b-3f56-4a4b-aa88-b50ecd1d905a",
   "metadata": {},
   "outputs": [],
   "source": [
    "df.drop(\"Transported\",inplace =True,axis = 1)"
   ]
  },
  {
   "cell_type": "code",
   "execution_count": 7,
   "id": "5b09fdb1-3eb9-4b18-afc4-3c9e7a6c16fb",
   "metadata": {},
   "outputs": [],
   "source": [
    "df_combined = pd.concat([df , df_test] , axis = 0)"
   ]
  },
  {
   "cell_type": "code",
   "execution_count": 8,
   "id": "e8210990-3b1f-4742-a325-d214a8971895",
   "metadata": {},
   "outputs": [
    {
     "data": {
      "text/plain": [
       "(12970, 13)"
      ]
     },
     "execution_count": 8,
     "metadata": {},
     "output_type": "execute_result"
    }
   ],
   "source": [
    "df_combined.shape"
   ]
  },
  {
   "cell_type": "code",
   "execution_count": 9,
   "id": "62f97048-c3f3-4618-a505-9af66df9fc12",
   "metadata": {},
   "outputs": [],
   "source": [
    "df_combined[\"HomePlanet\"] = df_combined[\"HomePlanet\"].fillna(\"Unknown\")\n"
   ]
  },
  {
   "cell_type": "code",
   "execution_count": 38,
   "id": "e1b8c9be-50d5-43d4-8589-b1ba92050683",
   "metadata": {},
   "outputs": [
    {
     "data": {
      "text/plain": [
       "HomePlanet        0\n",
       "CryoSleep         0\n",
       "Destination     274\n",
       "Age               0\n",
       "VIP               4\n",
       "RoomService       0\n",
       "FoodCourt         0\n",
       "ShoppingMall      0\n",
       "Spa               0\n",
       "VRDeck            0\n",
       "Deck            312\n",
       "Room Number     312\n",
       "Side            312\n",
       "dtype: int64"
      ]
     },
     "execution_count": 38,
     "metadata": {},
     "output_type": "execute_result"
    }
   ],
   "source": [
    "df_combined.isna().sum()"
   ]
  },
  {
   "cell_type": "code",
   "execution_count": 21,
   "id": "e34ca862-48bc-409b-bec5-25149116554d",
   "metadata": {},
   "outputs": [],
   "source": [
    "#df_combined . drop(\"Name\",axis = 1 , inplace =True)\n",
    "#df_combined . drop(\"PassengerId\",axis = 1 , inplace =True)"
   ]
  },
  {
   "cell_type": "code",
   "execution_count": 32,
   "id": "42df28e3-fb2f-41b6-9ed8-d4d360421c12",
   "metadata": {},
   "outputs": [
    {
     "name": "stderr",
     "output_type": "stream",
     "text": [
      "C:\\Users\\SinhaWiz\\AppData\\Local\\Temp\\ipykernel_15024\\1932137784.py:5: FutureWarning: Downcasting object dtype arrays on .fillna, .ffill, .bfill is deprecated and will change in a future version. Call result.infer_objects(copy=False) instead. To opt-in to the future behavior, set `pd.set_option('future.no_silent_downcasting', True)`\n",
      "  df_combined.loc[~condition1 ,vip_col ] = df_combined.loc[~condition1 ,vip_col ].fillna(True)\n",
      "C:\\Users\\SinhaWiz\\AppData\\Local\\Temp\\ipykernel_15024\\1932137784.py:7: FutureWarning: Downcasting object dtype arrays on .fillna, .ffill, .bfill is deprecated and will change in a future version. Call result.infer_objects(copy=False) instead. To opt-in to the future behavior, set `pd.set_option('future.no_silent_downcasting', True)`\n",
      "  df_combined.loc[~condition2 ,\"CryoSleep\" ] = df_combined.loc[~condition2 ,\"CryoSleep\" ].fillna(False)\n"
     ]
    }
   ],
   "source": [
    "expense_col = [\"RoomService\" , \"ShoppingMall\",\"Spa\",\"VRDeck\",\"FoodCourt\"]\n",
    "vip_col = [\"VIP\"]\n",
    "condition1 = (df_combined[\"CryoSleep\"] == True)\n",
    "df_combined.loc[~condition1 ,expense_col ] = df_combined.loc[~condition1 ,expense_col ].fillna(-10)\n",
    "df_combined.loc[~condition1 ,vip_col ] = df_combined.loc[~condition1 ,vip_col ].fillna(True)\n",
    "condition2 = (df_combined[expense_col].eq(0).all(axis = 1))\n",
    "df_combined.loc[~condition2 ,\"CryoSleep\" ] = df_combined.loc[~condition2 ,\"CryoSleep\" ].fillna(False)"
   ]
  },
  {
   "cell_type": "code",
   "execution_count": 36,
   "id": "d02a1314-0d9c-48e0-841b-e877b9bfe5ca",
   "metadata": {},
   "outputs": [],
   "source": [
    "cabin_cols = df[\"Cabin\"].str.split('/', expand = True)\n",
    "cabin_cols.columns = [\"Deck\" , \"Room Number\", \"Side\"]\n",
    "new_df = pd.concat([df_combined , cabin_cols] , axis = 1)\n",
    "df_combined = new_df \n",
    "df_combined = df_combined.drop(\"Cabin\" ,axis = 1)"
   ]
  },
  {
   "cell_type": "code",
   "execution_count": 39,
   "id": "116ad549-03c2-48fb-ac29-ae592b787137",
   "metadata": {},
   "outputs": [
    {
     "data": {
      "text/plain": [
       "HomePlanet       object\n",
       "CryoSleep        object\n",
       "Destination      object\n",
       "Age             float64\n",
       "VIP              object\n",
       "RoomService     float64\n",
       "FoodCourt       float64\n",
       "ShoppingMall    float64\n",
       "Spa             float64\n",
       "VRDeck          float64\n",
       "Deck             object\n",
       "Room Number      object\n",
       "Side             object\n",
       "dtype: object"
      ]
     },
     "execution_count": 39,
     "metadata": {},
     "output_type": "execute_result"
    }
   ],
   "source": [
    "df_combined.dtypes"
   ]
  },
  {
   "cell_type": "code",
   "execution_count": 43,
   "id": "b2861d0f-eee6-4112-a824-fd42958956d1",
   "metadata": {},
   "outputs": [
    {
     "data": {
      "text/plain": [
       "0         0\n",
       "1         0\n",
       "2         0\n",
       "3         0\n",
       "4         1\n",
       "       ... \n",
       "4272    298\n",
       "4273    853\n",
       "4274    937\n",
       "4275    143\n",
       "4276    743\n",
       "Name: Room Number, Length: 12970, dtype: object"
      ]
     },
     "execution_count": 43,
     "metadata": {},
     "output_type": "execute_result"
    }
   ],
   "source": [
    "df_combined[\"Room Number\"] "
   ]
  },
  {
   "cell_type": "code",
   "execution_count": 20,
   "id": "cc2214c7-92bb-45d5-b433-6949c4032b14",
   "metadata": {},
   "outputs": [],
   "source": [
    "df_combined[\"Age\"] = df_combined[\"Age\"].fillna(df.Age.median())"
   ]
  },
  {
   "cell_type": "code",
   "execution_count": 64,
   "id": "13a45ce7-5a23-4a84-ae5e-a57d8754e231",
   "metadata": {},
   "outputs": [
    {
     "data": {
      "text/plain": [
       "HomePlanet       object\n",
       "CryoSleep        object\n",
       "Destination      object\n",
       "Age             float64\n",
       "VIP              object\n",
       "RoomService     float64\n",
       "FoodCourt       float64\n",
       "ShoppingMall    float64\n",
       "Spa             float64\n",
       "VRDeck          float64\n",
       "Deck             object\n",
       "Room Number     float64\n",
       "Side             object\n",
       "dtype: object"
      ]
     },
     "execution_count": 64,
     "metadata": {},
     "output_type": "execute_result"
    }
   ],
   "source": [
    "train_data.dtypes"
   ]
  },
  {
   "cell_type": "code",
   "execution_count": 66,
   "id": "8b1260ac-96fe-4047-aa59-58ed66655d45",
   "metadata": {},
   "outputs": [],
   "source": [
    "numerical_features = ['Room Number', 'Age', 'RoomService', 'FoodCourt','ShoppingMall','Spa','VRDeck']\n",
    "categorical_features = ['HomePlanet','CryoSleep','Destination','VIP','Deck', 'Side']\n",
    "\n",
    "numerical_pipeline = Pipeline([\n",
    "    ('imputer', SimpleImputer(strategy='mean')),\n",
    "    ('scaler', StandardScaler())\n",
    "])\n",
    "\n",
    "categorical_pipeline = Pipeline([\n",
    "    ('inputer', SimpleImputer(strategy='most_frequent')),\n",
    "    ('encoder', OneHotEncoder(handle_unknown='ignore'))\n",
    "])\n",
    "new_preprocessor = ColumnTransformer([\n",
    "    ('numerical', numerical_pipeline, numerical_features),\n",
    "    ('categorical', categorical_pipeline, categorical_features)\n",
    "])"
   ]
  },
  {
   "cell_type": "code",
   "execution_count": 53,
   "id": "cf610ddd-22f1-4e5d-a7e4-27e55b39bd7f",
   "metadata": {},
   "outputs": [],
   "source": [
    "train_data = df_combined.iloc[:len(df)]\n",
    "test_data = df_combined.iloc[len(df) : len(df) + len(df_test)]"
   ]
  },
  {
   "cell_type": "code",
   "execution_count": 54,
   "id": "6392bb90-f8f9-476b-8f9d-e74b934d6025",
   "metadata": {},
   "outputs": [
    {
     "data": {
      "text/plain": [
       "((8693, 13), (4277, 13))"
      ]
     },
     "execution_count": 54,
     "metadata": {},
     "output_type": "execute_result"
    }
   ],
   "source": [
    "train_data.shape , test_data.shape\n"
   ]
  },
  {
   "cell_type": "code",
   "execution_count": 55,
   "id": "6c52cd6d-ddcc-4d2b-a910-97a6256a9acf",
   "metadata": {},
   "outputs": [],
   "source": [
    "y = df_train"
   ]
  },
  {
   "cell_type": "code",
   "execution_count": 59,
   "id": "4f78ec23-26d4-4547-b5c0-af7d7ea36a76",
   "metadata": {},
   "outputs": [
    {
     "data": {
      "text/plain": [
       "(8693, 13)"
      ]
     },
     "execution_count": 59,
     "metadata": {},
     "output_type": "execute_result"
    }
   ],
   "source": [
    "train_data.shape"
   ]
  },
  {
   "cell_type": "code",
   "execution_count": 63,
   "id": "5eb6e4cc-42e7-4646-be6f-2183a67947d7",
   "metadata": {},
   "outputs": [
    {
     "name": "stderr",
     "output_type": "stream",
     "text": [
      "C:\\Users\\SinhaWiz\\AppData\\Local\\Temp\\ipykernel_15024\\2973374556.py:1: SettingWithCopyWarning: \n",
      "A value is trying to be set on a copy of a slice from a DataFrame.\n",
      "Try using .loc[row_indexer,col_indexer] = value instead\n",
      "\n",
      "See the caveats in the documentation: https://pandas.pydata.org/pandas-docs/stable/user_guide/indexing.html#returning-a-view-versus-a-copy\n",
      "  train_data[\"Room Number\"] = train_data[\"Room Number\"].astype(float)\n",
      "C:\\Users\\SinhaWiz\\AppData\\Local\\Temp\\ipykernel_15024\\2973374556.py:2: SettingWithCopyWarning: \n",
      "A value is trying to be set on a copy of a slice from a DataFrame.\n",
      "Try using .loc[row_indexer,col_indexer] = value instead\n",
      "\n",
      "See the caveats in the documentation: https://pandas.pydata.org/pandas-docs/stable/user_guide/indexing.html#returning-a-view-versus-a-copy\n",
      "  test_data[\"Room Number\"] = test_data[\"Room Number\"].astype(float)\n"
     ]
    }
   ],
   "source": [
    "train_data[\"Room Number\"] = train_data[\"Room Number\"].astype(float)\n",
    "test_data[\"Room Number\"] = test_data[\"Room Number\"].astype(float)"
   ]
  },
  {
   "cell_type": "code",
   "execution_count": 57,
   "id": "7cb463da-ad27-4435-b472-5a67aa7085c7",
   "metadata": {},
   "outputs": [
    {
     "data": {
      "text/plain": [
       "dtype('bool')"
      ]
     },
     "execution_count": 57,
     "metadata": {},
     "output_type": "execute_result"
    }
   ],
   "source": [
    "y.dtype"
   ]
  },
  {
   "cell_type": "code",
   "execution_count": 69,
   "id": "cd5d892f-4b5a-460f-9c4a-117d862f160d",
   "metadata": {},
   "outputs": [
    {
     "data": {
      "text/plain": [
       "['Room Number',\n",
       " 'Age',\n",
       " 'RoomService',\n",
       " 'FoodCourt',\n",
       " 'ShoppingMall',\n",
       " 'Spa',\n",
       " 'VRDeck',\n",
       " 'HomePlanet_Earth',\n",
       " 'HomePlanet_Europa',\n",
       " 'HomePlanet_Mars',\n",
       " 'HomePlanet_Unknown',\n",
       " 'CryoSleep_False',\n",
       " 'CryoSleep_True',\n",
       " 'Destination_55 Cancri e',\n",
       " 'Destination_PSO J318.5-22',\n",
       " 'Destination_TRAPPIST-1e',\n",
       " 'VIP_False',\n",
       " 'VIP_True',\n",
       " 'Deck_A',\n",
       " 'Deck_B',\n",
       " 'Deck_C',\n",
       " 'Deck_D',\n",
       " 'Deck_E',\n",
       " 'Deck_F',\n",
       " 'Deck_G',\n",
       " 'Deck_T',\n",
       " 'Side_P',\n",
       " 'Side_S']"
      ]
     },
     "execution_count": 69,
     "metadata": {},
     "output_type": "execute_result"
    }
   ],
   "source": [
    "transformed_data_train = new_preprocessor.fit_transform(train_data)\n",
    "transformed_data_test = new_preprocessor.transform(test_data)\n",
    "\n",
    "feature_names = new_preprocessor.named_transformers_['categorical'] \\\n",
    "     .named_steps['encoder'].get_feature_names_out(input_features=categorical_features) \n",
    "\n",
    "all_feature_names = numerical_features + list(feature_names)\n",
    "all_feature_names\n"
   ]
  },
  {
   "cell_type": "code",
   "execution_count": 70,
   "id": "c70abf10-d101-444f-96a6-42b535b3d1af",
   "metadata": {},
   "outputs": [],
   "source": [
    "transformed_train_df = pd.DataFrame(transformed_data_train ,columns = all_feature_names )\n",
    "transformed_test_df = pd.DataFrame(transformed_data_test ,columns = all_feature_names )"
   ]
  },
  {
   "cell_type": "code",
   "execution_count": 77,
   "id": "a0c8f292-d6fc-4dbd-8ac4-8451e4947a2e",
   "metadata": {},
   "outputs": [],
   "source": [
    "# First GBM Model\n",
    "gbm_model_1 = GradientBoostingClassifier(n_estimators=70, learning_rate=0.1, max_features='sqrt', max_depth=5, random_state=SEED, \n",
    "                                        min_samples_split=2, min_samples_leaf=3, loss='exponential', subsample=0.5)\n",
    "\n",
    "# Second GBM Model\n",
    "gbm_model_2 = GradientBoostingClassifier(n_estimators=70, learning_rate=0.1, max_features='log2', max_depth=5, random_state=SEED, \n",
    "                                        min_samples_split=2, min_samples_leaf=3, subsample=0.5, loss='log_loss')\n",
    "\n",
    "# Third GBM Model\n",
    "gbm_model_3 = GradientBoostingClassifier(n_estimators=70, learning_rate=0.1, max_features='log2', max_depth=5, random_state=SEED, \n",
    "                                        min_samples_split=2, min_samples_leaf=3, subsample=0.5, loss='exponential')"
   ]
  },
  {
   "cell_type": "code",
   "execution_count": 79,
   "id": "fc1c36ad-c238-4211-8e56-9b082c42aa73",
   "metadata": {},
   "outputs": [],
   "source": [
    "X_train , X_test , y_train ,y_test = train_test_split(transformed_train_df ,y, test_size =0.2 , random_state=SEED)\n"
   ]
  },
  {
   "cell_type": "code",
   "execution_count": 82,
   "id": "131610fb-202b-4289-b1d3-8ef2b334d49e",
   "metadata": {},
   "outputs": [
    {
     "name": "stdout",
     "output_type": "stream",
     "text": [
      "Ensemble Accuracy: 0.7918343875790684\n"
     ]
    }
   ],
   "source": [
    "gbm_model_1.fit(X_train, y_train)\n",
    "gbm_model_2.fit(X_train, y_train)\n",
    "gbm_model_3.fit(X_train, y_train)\n",
    "\n",
    "# Run through predictions initially to train the Logistic Regression for predicting\n",
    "gbm_1_predictions = gbm_model_1.predict(X_test)\n",
    "gbm_2_predictions = gbm_model_2.predict(X_test)\n",
    "gbm_3_predictions = gbm_model_3.predict(X_test)\n",
    "\n",
    "\n",
    "# Stack both predictions to form a training set for the Logistic Regression\n",
    "stacked_features = np.column_stack((gbm_1_predictions, gbm_2_predictions, gbm_3_predictions))\n",
    "\n",
    "# Fit the meta model to stacked features\n",
    "meta_model = LogisticRegression()\n",
    "meta_model.fit(stacked_features, y_test)\n",
    "\n",
    "# Predict yet again to get a new metric\n",
    "gbm_1_base_preds = gbm_model_1.predict(X_test)\n",
    "gbm_2_base_preds = gbm_model_2.predict(X_test)\n",
    "gbm_3_base_preds = gbm_model_3.predict(X_test)\n",
    "\n",
    "\n",
    "# Stack both predictions yet again\n",
    "stacked_base_preds = np.column_stack((gbm_1_base_preds, gbm_2_base_preds, gbm_3_base_preds))\n",
    "\n",
    "# Get final predictions to gauge overall performance\n",
    "ensemble_predictions = meta_model.predict(stacked_base_preds)\n",
    "\n",
    "# Score the predictions and print them\n",
    "ensemble_accuracy = accuracy_score(y_test, ensemble_predictions)\n",
    "print(\"Ensemble Accuracy:\", ensemble_accuracy)"
   ]
  },
  {
   "cell_type": "code",
   "execution_count": 83,
   "id": "1a258b58-2e15-4449-ad55-5ff766c02311",
   "metadata": {},
   "outputs": [],
   "source": [
    "# Get new base predictions for actual test set\n",
    "gbm_1_base_preds = gbm_model_1.predict(transformed_test_df)\n",
    "gbm_2_base_preds = gbm_model_2.predict(transformed_test_df)\n",
    "gbm_3_base_preds = gbm_model_3.predict(transformed_test_df)\n",
    "\n",
    "# Combine both predictions for the meta model to predict\n",
    "stacked_base_preds = np.column_stack((gbm_1_base_preds, gbm_2_base_preds, gbm_3_base_preds))"
   ]
  },
  {
   "cell_type": "code",
   "execution_count": 84,
   "id": "e4e6f77c-7a7f-4402-9296-c87865cb1b2d",
   "metadata": {
    "jupyter": {
     "source_hidden": true
    }
   },
   "outputs": [],
   "source": [
    "gbm_1_base_preds = gbm_model_1.predict(transformed_test_df)\n",
    "gbm_2_base_preds = gbm_model_2.predict(transformed_test_df)\n",
    "gbm_3_base_preds = gbm_model_3.predict(transformed_test_df)\n",
    "\n",
    "# Combine both predictions for the meta model to predict\n",
    "stacked_base_preds = np.column_stack((gbm_1_base_preds, gbm_2_base_preds, gbm_3_base_preds))"
   ]
  },
  {
   "cell_type": "code",
   "execution_count": 85,
   "id": "cd824b9b-1d78-46b0-a14d-3b1e9a333d73",
   "metadata": {},
   "outputs": [],
   "source": [
    "ensemble_predictions = meta_model.predict(stacked_base_preds)"
   ]
  },
  {
   "cell_type": "code",
   "execution_count": 86,
   "id": "2620354d-72f0-4f15-bdfb-100dd69a92c8",
   "metadata": {},
   "outputs": [],
   "source": [
    "output = pd.DataFrame({\"PassengerId\" : df_test[\"PassengerId\"] , \n",
    "                       \"Transported\" : ensemble_predictions})"
   ]
  },
  {
   "cell_type": "code",
   "execution_count": 87,
   "id": "5d338473-25b8-4ccf-b337-b0f957c9967d",
   "metadata": {},
   "outputs": [],
   "source": [
    "output.to_csv(\"submission.csv\" , index = False)"
   ]
  },
  {
   "cell_type": "code",
   "execution_count": null,
   "id": "e212c810-2130-4f1f-89b3-2ba587f2d49c",
   "metadata": {},
   "outputs": [],
   "source": []
  }
 ],
 "metadata": {
  "kernelspec": {
   "display_name": "Python 3 (ipykernel)",
   "language": "python",
   "name": "python3"
  },
  "language_info": {
   "codemirror_mode": {
    "name": "ipython",
    "version": 3
   },
   "file_extension": ".py",
   "mimetype": "text/x-python",
   "name": "python",
   "nbconvert_exporter": "python",
   "pygments_lexer": "ipython3",
   "version": "3.12.8"
  }
 },
 "nbformat": 4,
 "nbformat_minor": 5
}
